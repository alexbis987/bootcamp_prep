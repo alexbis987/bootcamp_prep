{
 "cells": [
  {
   "cell_type": "code",
   "execution_count": 252,
   "metadata": {
    "collapsed": true
   },
   "outputs": [],
   "source": [
    "import numpy as np\n",
    "import pandas as pd\n",
    "import re\n"
   ]
  },
  {
   "cell_type": "markdown",
   "metadata": {},
   "source": [
    "# 1 .\n",
    "#You have an array of numbers.\n",
    "#Your task is to sort ascending odd numbers but even numbers must be on their places.\n",
    "\n",
    "#Zero isn't an odd number and you don't need to move it. If you have an empty array, you need to return it.\n",
    "source_array =([5, 3, 2, 8, 1, 4])"
   ]
  },
  {
   "cell_type": "code",
   "execution_count": 207,
   "metadata": {
    "collapsed": true
   },
   "outputs": [],
   "source": [
    "source_array =([5, 3, 2, 8, 1, 4])\n",
    "\n",
    "def sort_array(source_array):\n",
    "    odd_num = iter(sorted(num for num in source_array if num % 2))  # using a generator\n",
    "    return [next(odd_num) if num % 2 else num for num in source_array] # It will skip to the next odd num in that list"
   ]
  },
  {
   "cell_type": "code",
   "execution_count": 208,
   "metadata": {},
   "outputs": [
    {
     "data": {
      "text/plain": [
       "[1, 3, 2, 8, 5, 4]"
      ]
     },
     "execution_count": 208,
     "metadata": {},
     "output_type": "execute_result"
    }
   ],
   "source": [
    "sort_array(source_array)"
   ]
  },
  {
   "cell_type": "code",
   "execution_count": 65,
   "metadata": {
    "collapsed": true
   },
   "outputs": [],
   "source": [
    "source_array =([5, 3, 2, 8, 1, 4])\n",
    "\n",
    "def fixing_ar(source_array):\n",
    "    evens = []\n",
    "    odds = []\n",
    "    for a in source_array:\n",
    "        if a % 2:\n",
    "            odds.append(a)\n",
    "            evens.append(None)\n",
    "        else:\n",
    "            evens.append(a)\n",
    "    odds = iter(sorted(odds))\n",
    "\n",
    "    return [next(odds) if b is None  else b for b  in evens] # built in function on python, When you have\n"
   ]
  },
  {
   "cell_type": "code",
   "execution_count": 66,
   "metadata": {},
   "outputs": [
    {
     "data": {
      "text/plain": [
       "[1, 3, 2, 8, 5, 4]"
      ]
     },
     "execution_count": 66,
     "metadata": {},
     "output_type": "execute_result"
    }
   ],
   "source": [
    "fixing_ar(source_array)"
   ]
  },
  {
   "cell_type": "markdown",
   "metadata": {},
   "source": [
    "# 2 .\n",
    "Some children are playing rope skipping game. Children skip the rope at roughly the same speed: once per second. If the child fails during the jump, he needs to tidy up the rope and continue. This will take 3 seconds.\n",
    "\n",
    "You are given an array failedCount, where each element is the jump count at the failed. ie. [12,23,45] means the child failed 3 times in the game process. The 1st mistake occurred when he jumped 12 times; The 2nd mistake occurred when he jumped 23 times; The 3rd mistake occurred when he jumped 45 times.\n",
    "\n",
    "Your task is to calculate how many times the child jumped in 60 seconds.\n",
    "\n",
    "Note: Each child persisted at least 60 jumps, which meant it could have been over 60 seconds, but the child continued to skip rope.\n",
    "\n"
   ]
  },
  {
   "cell_type": "code",
   "execution_count": 219,
   "metadata": {
    "collapsed": true
   },
   "outputs": [],
   "source": [
    "failed_counter = [12, 23, 45]\n",
    "def jump_calc(failed_counter):\n",
    "    count = 0\n",
    "    jump = 0\n",
    "    \n",
    "    while count < 60:\n",
    "        count += 1\n",
    "        jump += 1\n",
    "        if jump in failed_counter:\n",
    "            count += 3\n",
    "    return jump"
   ]
  },
  {
   "cell_type": "code",
   "execution_count": 220,
   "metadata": {},
   "outputs": [
    {
     "data": {
      "text/plain": [
       "51"
      ]
     },
     "execution_count": 220,
     "metadata": {},
     "output_type": "execute_result"
    }
   ],
   "source": [
    "jump_calc(failed_counter)"
   ]
  },
  {
   "cell_type": "markdown",
   "metadata": {},
   "source": [
    "# 3.\n",
    "\n",
    "I found this interesting interview question just today:\n",
    "\n",
    "8 coins are given where all the coins have equal weight, except one. The odd one weights less than the others, not being of pure gold. In the worst case, how many iterations are actually needed to find the odd one out on a two plates scale.\n",
    "\n",
    "I am asking you then to tell me what is the minimum amount of weighings it will take to measure n coins in every possible occurrence (including worst case scenario, ie: without relying on luck at all).\n",
    "\n",
    "n is guaranteed to be a positive integer.\n",
    "\n",
    "Tip: being able to think recursively might help here :p\n",
    "\n",
    "Note: albeit this is more clearly a logical than a coding problem, do not underestimate (or under-rank) the kata for requiring not necessarily wizard-class coding skills: a good coder is a master of pattern recognition and subsequent optimization ;)"
   ]
  },
  {
   "cell_type": "code",
   "execution_count": 1,
   "metadata": {
    "collapsed": true
   },
   "outputs": [],
   "source": [
    "def how_many_measurements(n):\n",
    "    i = 0\n",
    "    while 3 ** i < n:\n",
    "        i +=1\n",
    "    return i"
   ]
  },
  {
   "cell_type": "markdown",
   "metadata": {
    "collapsed": true
   },
   "source": [
    "# 4 .\n",
    "Alex is a great fan of Snooker and he likes recording the results of his favorite players by recording the balls that fall into the pockets of the table. He asks you to help him with a program that calculates the points a player scored in a given set using his notes.\n",
    "Unfortunatly his notes are quiet a mess ...\n",
    "\n",
    "Task:\n",
    "Given his short hand notation as string, calculate the points a player scored in a set.\n",
    "He codes the ball colors with letters:\n",
    "\n",
    "R = red (1 point)\n",
    "Y = yellow (2 points)\n",
    "G = green (3 points)\n",
    "Bn = brown (4 points)\n",
    "Be = blue (5 points)\n",
    "P = pink (6 points)\n",
    "Bk = black (7 points)\n",
    "W = white (no points because it's a foul)\n",
    "\n",
    "The color may be followed by a number 'R12' would stand for 12 red balls pocketed. If there is no number given, the ball was pocketed once.\n",
    "\n",
    "For your convenience the points for each color are provided as hash / dictionary with the name 'blz'.\n",
    "\n",
    "\n"
   ]
  },
  {
   "cell_type": "code",
   "execution_count": 255,
   "metadata": {
    "collapsed": true
   },
   "outputs": [],
   "source": [
    "blz = {'R': 1, 'Y': 2, 'G': 3, 'Bn': 4, 'Be': 5, 'P': 6, 'Bk': 7, 'W':0}\n",
    "balls = \"R15P3G1Bk4Y1Bn1Be3\"\n",
    "\n",
    "def count_ball(balls):\n",
    "    if 'W' in balls:\n",
    "        return \"Foul\"\n",
    "    list = re.findall('[A-Z][a-z]*[0-9]*', balls)\n",
    "    sum = 0\n",
    "    for ball in list:\n",
    "        num = re.findall('[0-9]+', ball)\n",
    "        color = ball.rstrip(num[0]) if num else ball\n",
    "        n = int(num[0] if num else 1)\n",
    "        sum += n * int(blz[color])\n",
    "    return sum if sum < 148 else 'invalid'"
   ]
  },
  {
   "cell_type": "code",
   "execution_count": 256,
   "metadata": {},
   "outputs": [
    {
     "data": {
      "text/plain": [
       "85"
      ]
     },
     "execution_count": 256,
     "metadata": {},
     "output_type": "execute_result"
    }
   ],
   "source": [
    "count_ball(balls)"
   ]
  },
  {
   "cell_type": "code",
   "execution_count": 229,
   "metadata": {
    "collapsed": true
   },
   "outputs": [],
   "source": [
    "blz = {'R': 1, 'Y': 2, 'G': 3, 'Bn': 4, 'Be': 5, 'P': 6, 'Bk': 7, 'W':0}\n",
    "balls = \"R15P3G1Bk4Y1Bn1Be3\"\n",
    "def frame(balls):\n",
    "    if \"W\" in balls:\n",
    "        return \"Foul\"\n",
    "    list = re.findall('[A-Z][a-z]*[0-9]*', balls)\n",
    "    sum = 0\n",
    "    for ball in list:\n",
    "        num = re.findall('[0-9]+', ball)\n",
    "        color = ball.rstrip(num[0]) if num else ball\n",
    "        n = int(num[0] if num else 1)\n",
    "        sum += n * int(blz[color]) \n",
    "    return sum if sum < 148 else \"invalid\""
   ]
  },
  {
   "cell_type": "code",
   "execution_count": 230,
   "metadata": {},
   "outputs": [
    {
     "data": {
      "text/plain": [
       "85"
      ]
     },
     "execution_count": 230,
     "metadata": {},
     "output_type": "execute_result"
    }
   ],
   "source": [
    "frame(balls)"
   ]
  },
  {
   "cell_type": "markdown",
   "metadata": {},
   "source": [
    "# 5.\n",
    "How many bees are in the beehive?\n",
    "bees can be facing UP, DOWN, LEFT, or RIGHT\n",
    "bees can share parts of other bees\n",
    "Examples\n",
    "\n",
    "[[bee.bee],     \n",
    "[.e..e..],\n",
    "[.b..eeb]]\n",
    "\n",
    "bee.bee     \n",
    "e.e.e.e\n",
    "eeb.eeb\n",
    "\n",
    "They say this is a list of list but this doesn't make sense to me"
   ]
  },
  {
   "cell_type": "code",
   "execution_count": 25,
   "metadata": {
    "collapsed": true
   },
   "outputs": [],
   "source": [
    "# Spelling Bee Challenge\n",
    "\n",
    "\n",
    "def how_many_bees(hive):\n",
    "    if not hive:\n",
    "        return False\n",
    "    \n",
    "    result = 0\n",
    "    for num in hive:\n",
    "        r = ''.join(num)\n",
    "        result += r.count(\"bee\") #count forwards\n",
    "        result += r.count(\"eeb\") #count backwards\n",
    "\n",
    "    for i in range(len(hive[0])):\n",
    "        s = ''\n",
    "        for j in range(len(hive)):\n",
    "            s += hive[j][i]\n",
    "        result += s.count(\"bee\") #downwards\n",
    "        result += s.count(\"eeb\") # Upwards\n",
    "\n",
    "    return result"
   ]
  },
  {
   "cell_type": "markdown",
   "metadata": {},
   "source": [
    "# 6 .\n",
    "How much\n",
    "I always thought that my old friend John was rather richer than he looked, but I never knew exactly how much money he actually had. One day (as I was plying him with questions) he said: \"Imagine I have between m and n Zloty (or did he say Quetzal? I can't remember!)\n",
    "\n",
    "If I were to buy 9 cars costing c each, I'd only have 1 Zlotty (or was it Meticals?) left.\n",
    "\n",
    "And if I were to buy 7 boats at b each, I'd only have 2 Ringglets (or was it Zlotty?) left.\n",
    "\n",
    "Could you tell me in each possible case:\n",
    "\n",
    "how much money f he could possibly have\n",
    "the cost c of a car\n",
    "the cost b of a boat?\n",
    "So, I will have a better idea about his fortune. Note that if m-n is big enough, you might have a lot of possible answers.\n",
    "\n",
    "Each answer will be given as [\"M: f\", \"B: b\", \"C: c\"] and all the answers as [ [\"M: f\", \"B: b\", \"C: c\"] ... ]. M stands for \"Money\", B for boats, C for cars.\n",
    "\n",
    "m and n are positive or null integers with m <= n or m >= n, m and n inclusive.\n",
    "\n",
    "##Examples:\n",
    "\n",
    "howmuch(1, 100) => [[\"M: 37\", \"B: 5\", \"C: 4\"], [\"M: 100\", \"B: 14\", \"C: 11\"]]\n",
    "howmuch(1000, 1100) => [[\"M: 1045\", \"B: 149\", \"C: 116\"]]\n",
    "howmuch(10000, 9950) => [[\"M: 9991\", \"B: 1427\", \"C: 1110\"]]\n",
    "howmuch(0, 200) => [[\"M: 37\", \"B: 5\", \"C: 4\"], [\"M: 100\", \"B: 14\", \"C: 11\"], [\"M: 163\", \"B: 23\", \"C: 18\"]]\n",
    "Explanation of howmuch(1, 100):\n",
    "\n",
    "In the first answer his possible fortune is 37 so if he buys 7 boats each worth 5 it remains 37 - 7 * 5 = 2, if he buys 9 cars worth 4 each it remains 37 - 9 * 4 = 1. The same with f = 100: 100 - 7 * 14 = 2 and 100 - 9 * 11 = 1."
   ]
  },
  {
   "cell_type": "code",
   "execution_count": 3,
   "metadata": {
    "collapsed": true
   },
   "outputs": [],
   "source": [
    "# M stands for money\n",
    "# B for boat\n",
    "# C for cars\n",
    "# N for purchase\n",
    "def howmuch(m, n):    \n",
    "    \n",
    "    return [['M: %d'%i, 'B: %d'%(i/7), 'C: %d'%(i/9)] \n",
    "            for i in range(min(m,n), max(m,n)+1) if i%7 == 2 and i%9 == 1]\n",
    "        \n",
    "            "
   ]
  },
  {
   "cell_type": "code",
   "execution_count": 4,
   "metadata": {},
   "outputs": [
    {
     "ename": "NameError",
     "evalue": "name 'm' is not defined",
     "output_type": "error",
     "traceback": [
      "\u001b[0;31m---------------------------------------------------------------------------\u001b[0m",
      "\u001b[0;31mNameError\u001b[0m                                 Traceback (most recent call last)",
      "\u001b[0;32m<ipython-input-4-9aeed1dfabc3>\u001b[0m in \u001b[0;36m<module>\u001b[0;34m()\u001b[0m\n\u001b[0;32m----> 1\u001b[0;31m \u001b[0mhowmuch\u001b[0m\u001b[0;34m(\u001b[0m\u001b[0mm\u001b[0m\u001b[0;34m,\u001b[0m \u001b[0mn\u001b[0m\u001b[0;34m)\u001b[0m\u001b[0;34m\u001b[0m\u001b[0m\n\u001b[0m",
      "\u001b[0;31mNameError\u001b[0m: name 'm' is not defined"
     ]
    }
   ],
   "source": [
    "howmuch(m, n)"
   ]
  },
  {
   "cell_type": "code",
   "execution_count": null,
   "metadata": {
    "collapsed": true
   },
   "outputs": [],
   "source": [
    "def howmuch(m, n):\n",
    "    i = min(m, n)\n",
    "    j = max(m, n)\n",
    "    res = []\n",
    "    while (i <= j):\n",
    "        if ((i % 9 == 1) and (i %7 == 2)):\n",
    "            res.append([\"M: \" + str(i), \"B: \" + str(i // 7), \"C: \" + str(i // 9)])\n",
    "        i += 1\n",
    "    return res"
   ]
  },
  {
   "cell_type": "code",
   "execution_count": 5,
   "metadata": {},
   "outputs": [
    {
     "data": {
      "text/plain": [
       "False"
      ]
     },
     "execution_count": 5,
     "metadata": {},
     "output_type": "execute_result"
    }
   ],
   "source": [
    "i = 5\n",
    "i % 9 == 2"
   ]
  },
  {
   "cell_type": "markdown",
   "metadata": {},
   "source": [
    "# 7.\n",
    "A rectangle can be split up into a grid of 1x1 squares, the amount of which being equal to the product of the two dimensions of the rectangle. Depending on the size of the rectangle, that grid of 1x1 squares can also be split up into larger squares, for example a 3x2 rectangle has a total of 8 squares, as there are 6 distinct 1x1 squares, and two possible 2x2 squares. A 4x3 square contains 20 squares.\n",
    "\n",
    "\n",
    "\n",
    "\n",
    "Your task is to write a function findSquares that returns the total number of squares for any given rectangle, the dimensions of which being given as two integers with the first always being equal to or greater than the second."
   ]
  },
  {
   "cell_type": "code",
   "execution_count": 191,
   "metadata": {
    "collapsed": true
   },
   "outputs": [],
   "source": [
    "def findSquares(x,y):\n",
    "    squares = 0\n",
    "    while y > 0:  \n",
    "        squares = squares + x*y\n",
    "        x = x-1\n",
    "        y = y-1\n",
    "    return squares\n",
    "        "
   ]
  },
  {
   "cell_type": "code",
   "execution_count": null,
   "metadata": {
    "collapsed": true
   },
   "outputs": [],
   "source": [
    "def findSquares(x,y):\n",
    "    if x > y:\n",
    "        x, y  = y, x\n",
    "    return x*(x+1)*(2*x+1)/6 + (y-x)*x*(x+1)/2\n"
   ]
  },
  {
   "cell_type": "markdown",
   "metadata": {},
   "source": [
    "# 8.\n",
    "In this Kata, you will be given an array and your task will be to determine if an array is in ascending or descending order and if it is rotated or not.\n",
    "\n",
    "Consider the array [1,2,3,4,5,7,12]. This array is sorted in Ascending order. If we rotate this array once to the left, we get [12,1,2,3,4,5,7] and twice-rotated we get [7,12,1,2,3,4,5]. These two rotated arrays are in Rotated Ascending order.\n",
    "\n",
    "Similarly, the array [9,6,5,3,1] is in Descending order, but we can rotate it to get an array in Rotated Descending order: [1,9,6,5,3] or [3,1,9,6,5] etc.\n",
    "\n",
    "Arrays will never be unsorted, except for those that are rotated as shown above. Arrays will always have an answer, as shown in the examples below"
   ]
  },
  {
   "cell_type": "code",
   "execution_count": 5,
   "metadata": {
    "collapsed": true
   },
   "outputs": [],
   "source": [
    " arr = [1,2,3,4,5,7,12]"
   ]
  },
  {
   "cell_type": "code",
   "execution_count": 11,
   "metadata": {
    "collapsed": true
   },
   "outputs": [],
   "source": [
    "def solve(arr):\n",
    "    if sorted(arr) == arr:\n",
    "        return \"A\"\n",
    "    if sorted(arr)[::-1] == arr:\n",
    "        return \"D\"\n",
    "    return \"RA\" if arr[0] > arr[-1] else \"RD\""
   ]
  },
  {
   "cell_type": "code",
   "execution_count": 12,
   "metadata": {},
   "outputs": [
    {
     "data": {
      "text/plain": [
       "'A'"
      ]
     },
     "execution_count": 12,
     "metadata": {},
     "output_type": "execute_result"
    }
   ],
   "source": [
    "solve(arr)"
   ]
  },
  {
   "cell_type": "markdown",
   "metadata": {},
   "source": [
    "# 9.\n",
    "You will be given two numbers m,n. The numbers could span from 0 to 10000. We can get their product by using binary reduction as show in the table below.\n",
    "\n",
    "Example (to understand the table please read the description below it)\n",
    "\n",
    "\n",
    "real value of m(r)\tm\tn\t(r*n)\n",
    "0\t100\t15\t0\n",
    "0\t50\t30\t0\n",
    "1\t25\t60\t60\n",
    "0\t12\t120\t0\n",
    "0\t6\t240\t0\n",
    "1\t3\t480\t480\n",
    "1\t1\t960\t960\n",
    "Above, we are given two numbers 100 and 15. we keep reducing the bigger number by dividing it by 2 and hold the integer part of the division till it is no more divisible by 2. Then we assign the real values to these reduced parts of m. Any reduced number [1,m] has real value of 0 if it is even, and it will have real value of 1 if it is odd. On the other hand the smaller number in this case n keeps on doubling itself the same amount of times m reduces itself. The idea of this method is to change multiplication of two big number to a sequence of multiplication by 0 or 1 and perform addition to get the final product. You can see that from the last column (r*n) above.\n",
    "if we sum the last column we get 0+60+0+0+480+960=1500=100*15 Now your task for this kata will be to get those non-zero number in the last column in an array and return it sorted in descending order.so for the above example the return will be [960,480,60]."
   ]
  },
  {
   "cell_type": "code",
   "execution_count": null,
   "metadata": {
    "collapsed": true
   },
   "outputs": [],
   "source": [
    "def bin_mul(m,n):\n",
    "    if m < n: return bin_mul(n,m)\n",
    "    if n == 0: return[] \n",
    "    r = []\n",
    "    while m >= 1:\n",
    "        print(m,n)\n",
    "        if m % 2: r.append(1*n)\n",
    "        m = m//2\n",
    "        n = n*2\n",
    "    \n",
    "    return sorted(r,reverse=True)"
   ]
  },
  {
   "cell_type": "markdown",
   "metadata": {},
   "source": [
    "# 10.\n",
    "Backwards Read Primes are primes that when read backwards in base 10 (from right to left) are a different prime. (This rules out primes which are palindromes.)\n",
    "\n",
    "Examples:\n",
    "13 17 31 37 71 73 are Backwards Read Primes\n",
    "13 is such because it's prime and read from right to left writes 31 which is prime too. Same for the others.\n",
    "\n",
    "Task\n",
    "Find all Backwards Read Primes between two positive given numbers (both inclusive), the second one being greater than the first one. The resulting array or the resulting string will be ordered following the natural order of the prime numbers.\n",
    "\n",
    "Example\n",
    "backwardsPrime(2, 100) => [13, 17, 31, 37, 71, 73, 79, 97] backwardsPrime(9900, 10000) => [9923, 9931, 9941, 9967]\n",
    "\n",
    "backwardsPrime(2, 100) => [13, 17, 31, 37, 71, 73, 79, 97] \n",
    "backwardsPrime(9900, 10000) => [9923, 9931, 9941, 9967]"
   ]
  },
  {
   "cell_type": "code",
   "execution_count": null,
   "metadata": {
    "collapsed": true
   },
   "outputs": [],
   "source": [
    "def backwardsPrime(start, nd):\n",
    "    return [i for i in xrange(start,nd+1) \n",
    "            if i != int(str(i)[::-1]) and isPrime(i) and isPrime(int(str(i)[::-1]))]\n",
    "    \n",
    "def isPrime(n):\n",
    "    return all([n % i != 0 for i in xrange(2,int(n**.5)+1)])"
   ]
  },
  {
   "cell_type": "markdown",
   "metadata": {},
   "source": [
    "# 11.\n",
    "In this Kata, you will be given an array of strings and your task is to remove all consecutive duplicate letters from each string in the array.\n",
    "\n",
    "For example:\n",
    "\n",
    "dup([\"abracadabra\",\"allottee\",\"assessee\"]) = [\"abracadabra\",\"alote\",\"asese\"].\n",
    "\n",
    "dup([\"kelless\",\"keenness\"]) = [\"keles\",\"kenes\"].\n",
    "\n",
    "Strings will be alphabet characters only. Don't worry about lower and upper case. See test cases for more examples.\n",
    "\n",
    "Good luck!\n",
    "\n",
    "If you like this Kata, please try:\n",
    "\n"
   ]
  },
  {
   "cell_type": "code",
   "execution_count": null,
   "metadata": {
    "collapsed": true
   },
   "outputs": [],
   "source": [
    "import re\n",
    "\n",
    "def dup(arry):\n",
    "    return list(map(lambda s: re.sub(r'(\\w)\\1+', r'\\1', s), arry))"
   ]
  },
  {
   "cell_type": "markdown",
   "metadata": {},
   "source": [
    "# 12.\n",
    "The aim of this Kata is to write a function which will reverse the case of all consecutive duplicate letters in a string. That is, any letters that occur one after the other and are identical.\n",
    "\n",
    "If the duplicate letters are lowercase then they must be set to uppercase, and if they are uppercase then they need to be changed to lowercase.\n",
    "\n",
    "Examples:\n",
    "\n",
    "reverse_case(\"puzzles\")    Expected Result: \"puZZles\"\n",
    "reverse_case(\"massive\")    Expected Result: \"maSSive\"\n",
    "reverse_case(\"LITTLE\")     Expected Result: \"LIttLE\"\n",
    "reverse_case(\"shhh\")    "
   ]
  },
  {
   "cell_type": "code",
   "execution_count": 209,
   "metadata": {
    "collapsed": true
   },
   "outputs": [],
   "source": [
    "import re\n",
    "def reverse(str):\n",
    "    return re.sub(r'(.)\\1+', lambda m: m.group().swapcase(), str)\n"
   ]
  },
  {
   "cell_type": "markdown",
   "metadata": {},
   "source": [
    "# 13.  \n",
    "Consider the array [3,6,9,12]. If we generate all the combinations with repetition that sum to 12, we get 5 combinations: [12], [6,6], [3,9], [3,3,6], [3,3,3,3]. The length of the sub-arrays (such as [3,3,3,3] should be less than or equal to the length of the initial array ([3,6,9,12]).\n",
    "\n",
    "Given an array of positive integers and a number n, count all combinations with repetition of integers that sum to n. For example:\n",
    "\n",
    "find([3,6,9,12],12) = 5."
   ]
  },
  {
   "cell_type": "code",
   "execution_count": 39,
   "metadata": {
    "collapsed": true
   },
   "outputs": [],
   "source": [
    "from itertools import combinations_with_replacement\n",
    "\n",
    "def find(arr,n):\n",
    "    return sum( sum(c) == n for x in range(1,len(arr)+1) for c in combinations_with_replacement(arr, x) )"
   ]
  },
  {
   "cell_type": "markdown",
   "metadata": {},
   "source": [
    "# 14.\n",
    "A vector operation takes two or more vectors, applies an operation to each set of elements, and returns a vector of the results. For example, if x = [1, 2] and y = [6, 4], then x + y = [1 + 6, 2 + 4], or [7, 6].\n",
    "\n",
    "Your task has two parts. In Part 1, you'll define a higher order funciton, vector_op, that can execute vector operations. In Part 2 you'll define a series of functions to pass as f to vector_op.\n",
    "\n",
    "Part 1: Define a higher order function, vector_op(f, *vs)\n",
    "\n",
    "vector_op takes the following arguments:\n",
    "\n",
    "f, a function, that performs an operation on successive elements of an iterable, e.g., sum\n",
    "*vs An arbitrary number of vectors of equal length. We will use the list data structure for a vectors.\n",
    "Write vector_op so that it can take an arbitrary number of lists as arguments after f or an iterator of lists.\n",
    "\n",
    "vector_op returns a vector (a list) of the same length as those passed as arguments, and is the result of element-wise application of the operation to the vector arguments.\n",
    "\n",
    "Special Cases:\n",
    "\n",
    "With only one vector, it returns that vector unchanged, regardless of which valid f argument you pass.\n",
    "If any number of empty vectors are passed, it returns an empty vector.\n",
    "EXAMPLES:\n",
    "\n",
    "vector_op(sum, [1, 2], [6, 4]) => [7, 6]\n",
    "vector_op(sum, [1, 2], [6, 4], [2, 1]) => [9, 7]\n",
    "vector_op(sum, [1, 2]) => [1, 2] # Special Case 1\n",
    "vector_op(sum, [], [], [], [], [], [], []) => [] # Special Case 2\n",
    "Part 2: Define a series of functions to pass to vector_op\n",
    "\n",
    "In python, we already have a builtin function sum that performs a scalar arithmetic operation on an iterable. When we pass sumto vector_opwe have the vector version of addition.\n",
    "\n",
    "We're going to define two more functions that we perform scalar operations on iterables, and will perform vector operations when passed to vector_op.\n",
    "\n",
    "Multiplication: Define a function iter_mult that performs scalar multiplication on an iterable, and performs vector multiplication on an arbitrary number of arguments when passed as f to your higher order function vector_op.\n",
    "\n",
    "iter_mult([5, 4, 3]) => 60\n",
    "iter_mult(1)         => TypeError # as with the built-in sum(), iter_mult() needs an iterable argument"
   ]
  },
  {
   "cell_type": "code",
   "execution_count": 231,
   "metadata": {
    "collapsed": true
   },
   "outputs": [],
   "source": [
    "from functools import partial, reduce\n",
    "from operator import eq, mul\n",
    "\n",
    "def vector_op(f, *vs):\n",
    "    return list(map(f, zip(*vs)))\n",
    "    \n",
    "iter_mult = partial(reduce, mul)\n",
    "iter_eq = partial(reduce, eq)"
   ]
  },
  {
   "cell_type": "markdown",
   "metadata": {},
   "source": [
    "# 15.\n",
    "Given a certain square matrix A, of dimension n x n, that has negative and positive values (many of them may be 0).\n",
    "\n",
    "We need the following values rounded to the closest integer:\n",
    "\n",
    "the average of all the positive numbers (more or equal to 0) that are in the principal diagonal and in the columns with odd index, avg1\n",
    "\n",
    "the absolute value of the average of all the negative numbers in the secondary diagonal and in the columns with even index, avg2\n",
    "\n",
    "Let's see the requirements in an example:"
   ]
  },
  {
   "cell_type": "code",
   "execution_count": 233,
   "metadata": {
    "collapsed": true
   },
   "outputs": [],
   "source": [
    "def avg_diags(m):\n",
    "  a1,a2,l,l1,l2=0,0,len(m),0,0\n",
    "  for i in range (0,l):\n",
    "    if i&1: \n",
    "       if m[i][i]>=0: a1+=m[i][i]; l1+=1\n",
    "    else:\n",
    "       if m[l-i-1][i]<0: a2+=m[len(m)-i-1][i]; l2+=1\n",
    "  return [round(a1/l1) if l1>0 else -1,round(abs(a2)/l2) if l2>0 else -1]\n"
   ]
  },
  {
   "cell_type": "markdown",
   "metadata": {},
   "source": [
    "# 16.\n",
    "\n",
    "In this Kata, we are going to see how a Hash (or Map or dict) can be used to keep track of characters in a string.\n",
    "\n",
    "Consider two strings \"aabcdefg\" and \"fbd\". How many characters do we have to remove from the first string to get the second string? Although not the only way to solve this, we could create a Hash of counts for each string and see which character counts are different. That should get us close to the answer. I will leave the rest to you.\n",
    "\n",
    "For this example, solve(\"aabcdefg\",\"fbd\") = 5. Also, solve(\"xyz\",\"yxxz\") = 0, because we cannot get second string from the first since the second string is longer.\n",
    "\n",
    "More examples in the test cases."
   ]
  },
  {
   "cell_type": "code",
   "execution_count": 37,
   "metadata": {
    "collapsed": true
   },
   "outputs": [],
   "source": [
    "a = \"aabcdefg\",\n",
    "b = \"fbd\"\n",
    "from collections import Counter\n",
    "\n",
    "def solve(a,b):\n",
    "    return 0 if Counter(b) - Counter(a) else len(a) - len(b)"
   ]
  },
  {
   "cell_type": "code",
   "execution_count": 38,
   "metadata": {},
   "outputs": [
    {
     "data": {
      "text/plain": [
       "0"
      ]
     },
     "execution_count": 38,
     "metadata": {},
     "output_type": "execute_result"
    }
   ],
   "source": [
    "solve(a, b)"
   ]
  },
  {
   "cell_type": "markdown",
   "metadata": {
    "collapsed": true
   },
   "source": [
    "# 17."
   ]
  },
  {
   "cell_type": "code",
   "execution_count": 7,
   "metadata": {
    "collapsed": true
   },
   "outputs": [],
   "source": [
    "\n",
    "data = \"\"\"Rome:Jan 81.2,Feb 63.2,Mar 70.3,Apr 55.7,May 53.0,Jun 36.4,Jul 17.5,Aug 27.5,Sep 60.9,Oct 117.7,Nov 111.0,Dec 97.9\n",
    "London:Jan 48.0,Feb 38.9,Mar 39.9,Apr 42.2,May 47.3,Jun 52.1,Jul 59.5,Aug 57.2,Sep 55.4,Oct 62.0,Nov 59.0,Dec 52.9\n",
    "Paris:Jan 182.3,Feb 120.6,Mar 158.1,Apr 204.9,May 323.1,Jun 300.5,Jul 236.8,Aug 192.9,Sep 66.3,Oct 63.3,Nov 83.2,Dec 154.7\n",
    "NY:Jan 108.7,Feb 101.8,Mar 131.9,Apr 93.5,May 98.8,Jun 93.6,Jul 102.2,Aug 131.8,Sep 92.0,Oct 82.3,Nov 107.8,Dec 94.2\n",
    "Vancouver:Jan 145.7,Feb 121.4,Mar 102.3,Apr 69.2,May 55.8,Jun 47.1,Jul 31.3,Aug 37.0,Sep 59.6,Oct 116.3,Nov 154.6,Dec 171.5\n",
    "Sydney:Jan 103.4,Feb 111.0,Mar 131.3,Apr 129.7,May 123.0,Jun 129.2,Jul 102.8,Aug 80.3,Sep 69.3,Oct 82.6,Nov 81.4,Dec 78.2\n",
    "Bangkok:Jan 10.6,Feb 28.2,Mar 30.7,Apr 71.8,May 189.4,Jun 151.7,Jul 158.2,Aug 187.0,Sep 319.9,Oct 230.8,Nov 57.3,Dec 9.4\n",
    "Tokyo:Jan 49.9,Feb 71.5,Mar 106.4,Apr 129.2,May 144.0,Jun 176.0,Jul 135.6,Aug 148.5,Sep 216.4,Oct 194.1,Nov 95.6,Dec 54.4\n",
    "Beijing:Jan 3.9,Feb 4.7,Mar 8.2,Apr 18.4,May 33.0,Jun 78.1,Jul 224.3,Aug 170.0,Sep 58.4,Oct 18.0,Nov 9.3,Dec 2.7\n",
    "Lima:Jan 1.2,Feb 0.9,Mar 0.7,Apr 0.4,May 0.6,Jun 1.8,Jul 4.4,Aug 3.1,Sep 3.3,Oct 1.7,Nov 0.5,Dec 0.7\"\"\"\n",
    "\n",
    "data1 = \"\"\"Rome:Jan 90.2,Feb 73.2,Mar 80.3,Apr 55.7,May 53.0,Jun 36.4,Jul 17.5,Aug 27.5,Sep 60.9,Oct 147.7,Nov 121.0,Dec 97.9\n",
    "London:Jan 58.0,Feb 38.9,Mar 49.9,Apr 42.2,May 67.3,Jun 52.1,Jul 59.5,Aug 77.2,Sep 55.4,Oct 62.0,Nov 69.0,Dec 52.9\n",
    "Paris:Jan 182.3,Feb 120.6,Mar 188.1,Apr 204.9,May 323.1,Jun 350.5,Jul 336.8,Aug 192.9,Sep 66.3,Oct 63.3,Nov 83.2,Dec 154.7\n",
    "NY:Jan 128.7,Feb 121.8,Mar 151.9,Apr 93.5,May 98.8,Jun 93.6,Jul 142.2,Aug 131.8,Sep 92.0,Oct 82.3,Nov 107.8,Dec 94.2\n",
    "Vancouver:Jan 155.7,Feb 121.4,Mar 132.3,Apr 69.2,May 85.8,Jun 47.1,Jul 31.3,Aug 37.0,Sep 69.6,Oct 116.3,Nov 154.6,Dec 171.5\n",
    "Sydney:Jan 123.4,Feb 111.0,Mar 151.3,Apr 129.7,May 123.0,Jun 159.2,Jul 102.8,Aug 90.3,Sep 69.3,Oct 82.6,Nov 81.4,Dec 78.2\n",
    "Bangkok:Jan 20.6,Feb 28.2,Mar 40.7,Apr 81.8,May 189.4,Jun 151.7,Jul 198.2,Aug 197.0,Sep 319.9,Oct 230.8,Nov 57.3,Dec 9.4\n",
    "Tokyo:Jan 59.9,Feb 81.5,Mar 106.4,Apr 139.2,May 144.0,Jun 186.0,Jul 155.6,Aug 148.5,Sep 216.4,Oct 194.1,Nov 95.6,Dec 54.4\n",
    "Beijing:Jan 13.9,Feb 14.7,Mar 18.2,Apr 18.4,May 43.0,Jun 88.1,Jul 224.3,Aug 170.0,Sep 58.4,Oct 38.0,Nov 19.3,Dec 2.7\n",
    "Lima:Jan 11.2,Feb 10.9,Mar 10.7,Apr 10.4,May 10.6,Jun 11.8,Jul 14.4,Aug 13.1,Sep 23.3,Oct 1.7,Nov 0.5,Dec 10.7\"\"\"\n",
    "\n",
    "\n",
    "town = [\"Rome\", \"London\", \"Paris\", \"NY\", \"Vancouver\", \"Sydney\", \"Bangkok\", \"Tokyo\",\n",
    "         \"Beijing\", \"Lima\", \"Montevideo\", \"Caracas\", \"Madrid\", \"Berlin\"]\n",
    "\n",
    "\n",
    "def get_towndata(town, strng):\n",
    "    for line in strng.split('\\n'):\n",
    "        s_town, s_data = line.split(':')\n",
    "        if s_town == town:\n",
    "            return [s.split(' ') for s in s_data.split(',')]\n",
    "    return None\n",
    "\n",
    "def mean(town, strng):\n",
    "    data = get_towndata(town, strng)\n",
    "    if data is not None:\n",
    "        return sum([float(x) for m,x in data]) / len(data)\n",
    "    else:\n",
    "        return -1.\n",
    "    \n",
    "def variance(town, strng):\n",
    "    data = get_towndata(town, strng)\n",
    "    if data is not None:\n",
    "        mean = sum([float(x) for m,x in data]) / len(data)\n",
    "        return sum([(float(x)-mean)**2 for m,x in data]) / len(data)\n",
    "    else:\n",
    "        return -1."
   ]
  },
  {
   "cell_type": "code",
   "execution_count": null,
   "metadata": {
    "collapsed": true
   },
   "outputs": [],
   "source": [
    "get_towndata(town, strng)"
   ]
  },
  {
   "cell_type": "markdown",
   "metadata": {},
   "source": [
    "# 18.\n",
    "In this Kata, you will be given an array of arrays and your task will be to return the number of unique arrays that can be formed by picking exactly one element from each subarray.\n",
    "\n",
    "For example: solve([[1,2],[4],[5,6]]) = 4, because it results in only 4 possiblites. They are [1,4,5],[1,4,6],[2,4,5],[2,4,6].\n",
    "\n",
    "Make sure that you don't count duplicates; for example solve([[1,2],[4,4],[5,6,6]]) = 4, since the extra outcomes are just duplicates.\n",
    "\n",
    "See test cases for more examples.\n",
    "\n",
    "Good luck!\n",
    "\n",
    "If you like this Kata, please try:\n",
    "\n"
   ]
  },
  {
   "cell_type": "code",
   "execution_count": 50,
   "metadata": {
    "collapsed": true
   },
   "outputs": [],
   "source": [
    "arr = [[1,2],[4],[5,6],[7, 3]]\n",
    "\n",
    "def solve(arr):\n",
    "    x = 1\n",
    "    for a in arr:\n",
    "        x *= len(set(a))\n",
    "    return x"
   ]
  },
  {
   "cell_type": "code",
   "execution_count": 51,
   "metadata": {},
   "outputs": [
    {
     "data": {
      "text/plain": [
       "8"
      ]
     },
     "execution_count": 51,
     "metadata": {},
     "output_type": "execute_result"
    }
   ],
   "source": [
    "solve(arr)"
   ]
  },
  {
   "cell_type": "markdown",
   "metadata": {},
   "source": [
    "# 19.\n",
    "In this Kata, you will be given an array of strings and your task is to remove all consecutive duplicate letters from each string in the array.\n",
    "\n",
    "For example:\n",
    "\n",
    "dup([\"abracadabra\",\"allottee\",\"assessee\"]) = [\"abracadabra\",\"alote\",\"asese\"].\n",
    "\n",
    "dup([\"kelless\",\"keenness\"]) = [\"keles\",\"kenes\"].\n",
    "\n",
    "Strings will be alphabet characters only. Don't worry about lower and upper case. See test cases for more examples.\n",
    "\n",
    "Good luck!\n",
    "\n",
    "If you like this Kata, please try:"
   ]
  },
  {
   "cell_type": "code",
   "execution_count": null,
   "metadata": {
    "collapsed": true
   },
   "outputs": [],
   "source": [
    "import re\n",
    "def dup(arry):\n",
    "    return list(map(lambda s: re.sub(r'(\\w)\\1+', r'\\1', s), arry))"
   ]
  },
  {
   "cell_type": "code",
   "execution_count": null,
   "metadata": {
    "collapsed": true
   },
   "outputs": [],
   "source": []
  }
 ],
 "metadata": {
  "kernelspec": {
   "display_name": "Python 3",
   "language": "python",
   "name": "python3"
  },
  "language_info": {
   "codemirror_mode": {
    "name": "ipython",
    "version": 3
   },
   "file_extension": ".py",
   "mimetype": "text/x-python",
   "name": "python",
   "nbconvert_exporter": "python",
   "pygments_lexer": "ipython3",
   "version": "3.5.3"
  }
 },
 "nbformat": 4,
 "nbformat_minor": 2
}
