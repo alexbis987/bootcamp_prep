{
 "cells": [
  {
   "cell_type": "code",
   "execution_count": 13,
   "metadata": {
    "collapsed": true
   },
   "outputs": [],
   "source": [
    "import numpy as np\n",
    "import pandas as pd\n",
    "import re\n"
   ]
  },
  {
   "cell_type": "code",
   "execution_count": 4,
   "metadata": {},
   "outputs": [],
   "source": [
    "#You have an array of numbers.\n",
    "#Your task is to sort ascending odd numbers but even numbers must be on their places.\n",
    "\n",
    "#Zero isn't an odd number and you don't need to move it. If you have an empty array, you need to return it.\n",
    "source_array =([5, 3, 2, 8, 1, 4])\n",
    "\n",
    "def sort_array(source_array):\n",
    "    odd_num = iter(sorted(num for num in source_array  if num %  2))\n",
    "    return [next(odd_num) if num % 2 else num for num in source_array]"
   ]
  },
  {
   "cell_type": "code",
   "execution_count": 6,
   "metadata": {},
   "outputs": [
    {
     "data": {
      "text/plain": [
       "[1, 3, 2, 8, 5, 4]"
      ]
     },
     "execution_count": 6,
     "metadata": {},
     "output_type": "execute_result"
    }
   ],
   "source": [
    "sort_array(source_array)"
   ]
  },
  {
   "cell_type": "markdown",
   "metadata": {},
   "source": [
    "Some children are playing rope skipping game. Children skip the rope at roughly the same speed: once per second. If the child fails during the jump, he needs to tidy up the rope and continue. This will take 3 seconds.\n",
    "\n",
    "You are given an array failedCount, where each element is the jump count at the failed. ie. [12,23,45] means the child failed 3 times in the game process. The 1st mistake occurred when he jumped 12 times; The 2nd mistake occurred when he jumped 23 times; The 3rd mistake occurred when he jumped 45 times.\n",
    "\n",
    "Your task is to calculate how many times the child jumped in 60 seconds.\n",
    "\n",
    "Note: Each child persisted at least 60 jumps, which meant it could have been over 60 seconds, but the child continued to skip rope.\n",
    "\n"
   ]
  },
  {
   "cell_type": "code",
   "execution_count": 8,
   "metadata": {
    "collapsed": true
   },
   "outputs": [],
   "source": [
    "def tiaosheng(failed_counter):\n",
    "    count = 0 \n",
    "    jump = 0\n",
    "    \n",
    "    while count < 60:\n",
    "        count += 1\n",
    "        jump += 1\n",
    "        if jump in failed_counter:\n",
    "            count += 3\n",
    "\n",
    "    return jump"
   ]
  },
  {
   "cell_type": "markdown",
   "metadata": {},
   "source": [
    "# Confusing Algorithm\n",
    "\n",
    "Given u0 = 1, u1 = 2 and the relation 6unun+1-5unun+2+un+1un+2 = 0 calculate un for any integer n >= 0.\n",
    "\n",
    "#Examples\n",
    "\n",
    "fct(n) returns un: fct(17) -> 131072, fct(21) -> 2097152\n",
    "\n",
    "Remark: You can take two points of view to do this kata:\n",
    "\n",
    "the first one purely algorithmic from the definition of un\n",
    "\n",
    "the second one - not at all mandatory, but as a complement - is to get a bit your head around and find which sequence is hidden behind un.\n",
    "\n"
   ]
  },
  {
   "cell_type": "code",
   "execution_count": 12,
   "metadata": {},
   "outputs": [
    {
     "ename": "SyntaxError",
     "evalue": "unexpected EOF while parsing (<ipython-input-12-0c73844daf76>, line 2)",
     "output_type": "error",
     "traceback": [
      "\u001b[0;36m  File \u001b[0;32m\"<ipython-input-12-0c73844daf76>\"\u001b[0;36m, line \u001b[0;32m2\u001b[0m\n\u001b[0;31m    #your code\u001b[0m\n\u001b[0m              ^\u001b[0m\n\u001b[0;31mSyntaxError\u001b[0m\u001b[0;31m:\u001b[0m unexpected EOF while parsing\n"
     ]
    }
   ],
   "source": [
    "def fcn(n):\n",
    "    #your code"
   ]
  },
  {
   "cell_type": "code",
   "execution_count": null,
   "metadata": {
    "collapsed": true
   },
   "outputs": [],
   "source": [
    "R = red (1 point)\n",
    "Y = yellow (2 points)\n",
    "G = green (3 points)\n",
    "Bn = brown (4 points)\n",
    "Be = blue (5 points)\n",
    "P = pink (6 points)\n",
    "Bk = black (7 points)\n",
    "W = white (no points because it's a foul)"
   ]
  },
  {
   "cell_type": "code",
   "execution_count": 22,
   "metadata": {},
   "outputs": [],
   "source": [
    "blz = {'R': 1, 'Y': 2, 'G': 3, 'Bn': 4, 'Be': 5, 'P': 6, 'Bk': 7, 'W':0}\n",
    "balls = \"R15P3G1Bk4Y1Bn1Be3\"\n",
    "def frame(balls):\n",
    "    if 'W' in balls:\n",
    "        return 'Foul'\n",
    "    list = re.findall('[A-Z][a-z]*[0-9]*', balls)\n",
    "    sum = 0\n",
    "    for ball in list:\n",
    "        num = re.findall('[0-9]+', ball)\n",
    "        color = ball.rstrip(num[0]) if num else ball\n",
    "        n = int(num[0]) if num else 1\n",
    "        sum += n * int(blz[color])\n",
    "    return sum if sum < 148 else 'invalid data'"
   ]
  },
  {
   "cell_type": "code",
   "execution_count": 23,
   "metadata": {},
   "outputs": [
    {
     "data": {
      "text/plain": [
       "85"
      ]
     },
     "execution_count": 23,
     "metadata": {},
     "output_type": "execute_result"
    }
   ],
   "source": [
    "frame(balls)"
   ]
  },
  {
   "cell_type": "markdown",
   "metadata": {},
   "source": [
    "How many bees are in the beehive?\n",
    "bees can be facing UP, DOWN, LEFT, or RIGHT\n",
    "bees can share parts of other bees\n",
    "Examples\n",
    "\n",
    "[[bee.bee],     \n",
    "[.e..e..],\n",
    "[.b..eeb]]\n",
    "\n",
    "bee.bee     \n",
    "e.e.e.e\n",
    "eeb.eeb\n",
    "\n",
    "They say this is a list of list but this doesn't make sense to me"
   ]
  },
  {
   "cell_type": "code",
   "execution_count": 25,
   "metadata": {},
   "outputs": [],
   "source": [
    "# Spelling Bee Challenge\n",
    "\n",
    "\n",
    "def how_many_bees(hive):\n",
    "    if not hive:\n",
    "        return False\n",
    "    \n",
    "    result = 0\n",
    "    for num in hive:\n",
    "        r = ''.join(num)\n",
    "        result += r.count(\"bee\") #count forwards\n",
    "        result += r.count(\"eeb\") #count backwards\n",
    "\n",
    "    for i in range(len(hive[0])):\n",
    "        s = ''\n",
    "        for j in range(len(hive)):\n",
    "            s += hive[j][i]\n",
    "        result += s.count(\"bee\") #downwards\n",
    "        result += s.count(\"eeb\") # Upwards\n",
    "\n",
    "    return result"
   ]
  },
  {
   "cell_type": "markdown",
   "metadata": {},
   "source": [
    "# This will be a growth challenge for me\n",
    "How much\n",
    "I always thought that my old friend John was rather richer than he looked, but I never knew exactly how much money he actually had. One day (as I was plying him with questions) he said: \"Imagine I have between m and n Zloty (or did he say Quetzal? I can't remember!)\n",
    "\n",
    "If I were to buy 9 cars costing c each, I'd only have 1 Zlotty (or was it Meticals?) left.\n",
    "\n",
    "And if I were to buy 7 boats at b each, I'd only have 2 Ringglets (or was it Zlotty?) left.\n",
    "\n",
    "Could you tell me in each possible case:\n",
    "\n",
    "how much money f he could possibly have\n",
    "the cost c of a car\n",
    "the cost b of a boat?\n",
    "So, I will have a better idea about his fortune. Note that if m-n is big enough, you might have a lot of possible answers.\n",
    "\n",
    "Each answer will be given as [\"M: f\", \"B: b\", \"C: c\"] and all the answers as [ [\"M: f\", \"B: b\", \"C: c\"] ... ]. M stands for \"Money\", B for boats, C for cars.\n",
    "\n",
    "m and n are positive or null integers with m <= n or m >= n, m and n inclusive.\n",
    "\n",
    "##Examples:\n",
    "\n",
    "howmuch(1, 100) => [[\"M: 37\", \"B: 5\", \"C: 4\"], [\"M: 100\", \"B: 14\", \"C: 11\"]]\n",
    "howmuch(1000, 1100) => [[\"M: 1045\", \"B: 149\", \"C: 116\"]]\n",
    "howmuch(10000, 9950) => [[\"M: 9991\", \"B: 1427\", \"C: 1110\"]]\n",
    "howmuch(0, 200) => [[\"M: 37\", \"B: 5\", \"C: 4\"], [\"M: 100\", \"B: 14\", \"C: 11\"], [\"M: 163\", \"B: 23\", \"C: 18\"]]\n",
    "Explanation of howmuch(1, 100):\n",
    "\n",
    "In the first answer his possible fortune is 37 so if he buys 7 boats each worth 5 it remains 37 - 7 * 5 = 2, if he buys 9 cars worth 4 each it remains 37 - 9 * 4 = 1. The same with f = 100: 100 - 7 * 14 = 2 and 100 - 9 * 11 = 1."
   ]
  },
  {
   "cell_type": "code",
   "execution_count": 26,
   "metadata": {
    "collapsed": true
   },
   "outputs": [],
   "source": [
    "def howmuch(m, n):    \n",
    "    return [['M: %d'%i, 'B: %d'%(i/7), 'C: %d'%(i/9)] for i in range(min(m,n), max(m,n)+1) if i%7 == 2 and i%9 == 1]\n",
    "        \n",
    "            "
   ]
  },
  {
   "cell_type": "code",
   "execution_count": null,
   "metadata": {
    "collapsed": true
   },
   "outputs": [],
   "source": []
  }
 ],
 "metadata": {
  "kernelspec": {
   "display_name": "Python 3",
   "language": "python",
   "name": "python3"
  },
  "language_info": {
   "codemirror_mode": {
    "name": "ipython",
    "version": 3
   },
   "file_extension": ".py",
   "mimetype": "text/x-python",
   "name": "python",
   "nbconvert_exporter": "python",
   "pygments_lexer": "ipython3",
   "version": "3.5.3"
  }
 },
 "nbformat": 4,
 "nbformat_minor": 2
}
